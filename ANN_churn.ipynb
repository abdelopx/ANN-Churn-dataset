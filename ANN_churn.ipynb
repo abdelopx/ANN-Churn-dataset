{
  "nbformat": 4,
  "nbformat_minor": 0,
  "metadata": {
    "colab": {
      "name": "Churn dataset.ipynb",
      "provenance": []
    },
    "kernelspec": {
      "name": "python3",
      "display_name": "Python 3"
    },
    "language_info": {
      "name": "python"
    }
  },
  "cells": [
    {
      "cell_type": "code",
      "execution_count": 153,
      "metadata": {
        "id": "wH_vQSTZ0SsW"
      },
      "outputs": [],
      "source": [
        "import pandas as pd\n",
        "import numpy as np\n",
        "import tensorflow as tf\n",
        "from tensorflow import keras\n",
        "import matplotlib.pyplot as plt\n",
        "import seaborn as sns"
      ]
    },
    {
      "cell_type": "code",
      "source": [
        "df = pd.read_csv('churn_data.csv')\n",
        "df.head()"
      ],
      "metadata": {
        "colab": {
          "base_uri": "https://localhost:8080/",
          "height": 357
        },
        "id": "FkIBeYEm1nuU",
        "outputId": "35dbca2c-208b-4179-e505-a7ca6b966607"
      },
      "execution_count": 154,
      "outputs": [
        {
          "output_type": "execute_result",
          "data": {
            "text/html": [
              "\n",
              "  <div id=\"df-99f7644b-a8da-4bf5-89b5-5c8cd7648be8\">\n",
              "    <div class=\"colab-df-container\">\n",
              "      <div>\n",
              "<style scoped>\n",
              "    .dataframe tbody tr th:only-of-type {\n",
              "        vertical-align: middle;\n",
              "    }\n",
              "\n",
              "    .dataframe tbody tr th {\n",
              "        vertical-align: top;\n",
              "    }\n",
              "\n",
              "    .dataframe thead th {\n",
              "        text-align: right;\n",
              "    }\n",
              "</style>\n",
              "<table border=\"1\" class=\"dataframe\">\n",
              "  <thead>\n",
              "    <tr style=\"text-align: right;\">\n",
              "      <th></th>\n",
              "      <th>customerID</th>\n",
              "      <th>gender</th>\n",
              "      <th>SeniorCitizen</th>\n",
              "      <th>Partner</th>\n",
              "      <th>Dependents</th>\n",
              "      <th>tenure</th>\n",
              "      <th>PhoneService</th>\n",
              "      <th>MultipleLines</th>\n",
              "      <th>InternetService</th>\n",
              "      <th>OnlineSecurity</th>\n",
              "      <th>OnlineBackup</th>\n",
              "      <th>DeviceProtection</th>\n",
              "      <th>TechSupport</th>\n",
              "      <th>StreamingTV</th>\n",
              "      <th>StreamingMovies</th>\n",
              "      <th>Contract</th>\n",
              "      <th>PaperlessBilling</th>\n",
              "      <th>PaymentMethod</th>\n",
              "      <th>MonthlyCharges</th>\n",
              "      <th>TotalCharges</th>\n",
              "      <th>Churn</th>\n",
              "    </tr>\n",
              "  </thead>\n",
              "  <tbody>\n",
              "    <tr>\n",
              "      <th>0</th>\n",
              "      <td>7590-VHVEG</td>\n",
              "      <td>Female</td>\n",
              "      <td>0</td>\n",
              "      <td>Yes</td>\n",
              "      <td>No</td>\n",
              "      <td>1</td>\n",
              "      <td>No</td>\n",
              "      <td>No phone service</td>\n",
              "      <td>DSL</td>\n",
              "      <td>No</td>\n",
              "      <td>Yes</td>\n",
              "      <td>No</td>\n",
              "      <td>No</td>\n",
              "      <td>No</td>\n",
              "      <td>No</td>\n",
              "      <td>Month-to-month</td>\n",
              "      <td>Yes</td>\n",
              "      <td>Electronic check</td>\n",
              "      <td>29.85</td>\n",
              "      <td>29.85</td>\n",
              "      <td>No</td>\n",
              "    </tr>\n",
              "    <tr>\n",
              "      <th>1</th>\n",
              "      <td>5575-GNVDE</td>\n",
              "      <td>Male</td>\n",
              "      <td>0</td>\n",
              "      <td>No</td>\n",
              "      <td>No</td>\n",
              "      <td>34</td>\n",
              "      <td>Yes</td>\n",
              "      <td>No</td>\n",
              "      <td>DSL</td>\n",
              "      <td>Yes</td>\n",
              "      <td>No</td>\n",
              "      <td>Yes</td>\n",
              "      <td>No</td>\n",
              "      <td>No</td>\n",
              "      <td>No</td>\n",
              "      <td>One year</td>\n",
              "      <td>No</td>\n",
              "      <td>Mailed check</td>\n",
              "      <td>56.95</td>\n",
              "      <td>1889.5</td>\n",
              "      <td>No</td>\n",
              "    </tr>\n",
              "    <tr>\n",
              "      <th>2</th>\n",
              "      <td>3668-QPYBK</td>\n",
              "      <td>Male</td>\n",
              "      <td>0</td>\n",
              "      <td>No</td>\n",
              "      <td>No</td>\n",
              "      <td>2</td>\n",
              "      <td>Yes</td>\n",
              "      <td>No</td>\n",
              "      <td>DSL</td>\n",
              "      <td>Yes</td>\n",
              "      <td>Yes</td>\n",
              "      <td>No</td>\n",
              "      <td>No</td>\n",
              "      <td>No</td>\n",
              "      <td>No</td>\n",
              "      <td>Month-to-month</td>\n",
              "      <td>Yes</td>\n",
              "      <td>Mailed check</td>\n",
              "      <td>53.85</td>\n",
              "      <td>108.15</td>\n",
              "      <td>Yes</td>\n",
              "    </tr>\n",
              "    <tr>\n",
              "      <th>3</th>\n",
              "      <td>7795-CFOCW</td>\n",
              "      <td>Male</td>\n",
              "      <td>0</td>\n",
              "      <td>No</td>\n",
              "      <td>No</td>\n",
              "      <td>45</td>\n",
              "      <td>No</td>\n",
              "      <td>No phone service</td>\n",
              "      <td>DSL</td>\n",
              "      <td>Yes</td>\n",
              "      <td>No</td>\n",
              "      <td>Yes</td>\n",
              "      <td>Yes</td>\n",
              "      <td>No</td>\n",
              "      <td>No</td>\n",
              "      <td>One year</td>\n",
              "      <td>No</td>\n",
              "      <td>Bank transfer (automatic)</td>\n",
              "      <td>42.30</td>\n",
              "      <td>1840.75</td>\n",
              "      <td>No</td>\n",
              "    </tr>\n",
              "    <tr>\n",
              "      <th>4</th>\n",
              "      <td>9237-HQITU</td>\n",
              "      <td>Female</td>\n",
              "      <td>0</td>\n",
              "      <td>No</td>\n",
              "      <td>No</td>\n",
              "      <td>2</td>\n",
              "      <td>Yes</td>\n",
              "      <td>No</td>\n",
              "      <td>Fiber optic</td>\n",
              "      <td>No</td>\n",
              "      <td>No</td>\n",
              "      <td>No</td>\n",
              "      <td>No</td>\n",
              "      <td>No</td>\n",
              "      <td>No</td>\n",
              "      <td>Month-to-month</td>\n",
              "      <td>Yes</td>\n",
              "      <td>Electronic check</td>\n",
              "      <td>70.70</td>\n",
              "      <td>151.65</td>\n",
              "      <td>Yes</td>\n",
              "    </tr>\n",
              "  </tbody>\n",
              "</table>\n",
              "</div>\n",
              "      <button class=\"colab-df-convert\" onclick=\"convertToInteractive('df-99f7644b-a8da-4bf5-89b5-5c8cd7648be8')\"\n",
              "              title=\"Convert this dataframe to an interactive table.\"\n",
              "              style=\"display:none;\">\n",
              "        \n",
              "  <svg xmlns=\"http://www.w3.org/2000/svg\" height=\"24px\"viewBox=\"0 0 24 24\"\n",
              "       width=\"24px\">\n",
              "    <path d=\"M0 0h24v24H0V0z\" fill=\"none\"/>\n",
              "    <path d=\"M18.56 5.44l.94 2.06.94-2.06 2.06-.94-2.06-.94-.94-2.06-.94 2.06-2.06.94zm-11 1L8.5 8.5l.94-2.06 2.06-.94-2.06-.94L8.5 2.5l-.94 2.06-2.06.94zm10 10l.94 2.06.94-2.06 2.06-.94-2.06-.94-.94-2.06-.94 2.06-2.06.94z\"/><path d=\"M17.41 7.96l-1.37-1.37c-.4-.4-.92-.59-1.43-.59-.52 0-1.04.2-1.43.59L10.3 9.45l-7.72 7.72c-.78.78-.78 2.05 0 2.83L4 21.41c.39.39.9.59 1.41.59.51 0 1.02-.2 1.41-.59l7.78-7.78 2.81-2.81c.8-.78.8-2.07 0-2.86zM5.41 20L4 18.59l7.72-7.72 1.47 1.35L5.41 20z\"/>\n",
              "  </svg>\n",
              "      </button>\n",
              "      \n",
              "  <style>\n",
              "    .colab-df-container {\n",
              "      display:flex;\n",
              "      flex-wrap:wrap;\n",
              "      gap: 12px;\n",
              "    }\n",
              "\n",
              "    .colab-df-convert {\n",
              "      background-color: #E8F0FE;\n",
              "      border: none;\n",
              "      border-radius: 50%;\n",
              "      cursor: pointer;\n",
              "      display: none;\n",
              "      fill: #1967D2;\n",
              "      height: 32px;\n",
              "      padding: 0 0 0 0;\n",
              "      width: 32px;\n",
              "    }\n",
              "\n",
              "    .colab-df-convert:hover {\n",
              "      background-color: #E2EBFA;\n",
              "      box-shadow: 0px 1px 2px rgba(60, 64, 67, 0.3), 0px 1px 3px 1px rgba(60, 64, 67, 0.15);\n",
              "      fill: #174EA6;\n",
              "    }\n",
              "\n",
              "    [theme=dark] .colab-df-convert {\n",
              "      background-color: #3B4455;\n",
              "      fill: #D2E3FC;\n",
              "    }\n",
              "\n",
              "    [theme=dark] .colab-df-convert:hover {\n",
              "      background-color: #434B5C;\n",
              "      box-shadow: 0px 1px 3px 1px rgba(0, 0, 0, 0.15);\n",
              "      filter: drop-shadow(0px 1px 2px rgba(0, 0, 0, 0.3));\n",
              "      fill: #FFFFFF;\n",
              "    }\n",
              "  </style>\n",
              "\n",
              "      <script>\n",
              "        const buttonEl =\n",
              "          document.querySelector('#df-99f7644b-a8da-4bf5-89b5-5c8cd7648be8 button.colab-df-convert');\n",
              "        buttonEl.style.display =\n",
              "          google.colab.kernel.accessAllowed ? 'block' : 'none';\n",
              "\n",
              "        async function convertToInteractive(key) {\n",
              "          const element = document.querySelector('#df-99f7644b-a8da-4bf5-89b5-5c8cd7648be8');\n",
              "          const dataTable =\n",
              "            await google.colab.kernel.invokeFunction('convertToInteractive',\n",
              "                                                     [key], {});\n",
              "          if (!dataTable) return;\n",
              "\n",
              "          const docLinkHtml = 'Like what you see? Visit the ' +\n",
              "            '<a target=\"_blank\" href=https://colab.research.google.com/notebooks/data_table.ipynb>data table notebook</a>'\n",
              "            + ' to learn more about interactive tables.';\n",
              "          element.innerHTML = '';\n",
              "          dataTable['output_type'] = 'display_data';\n",
              "          await google.colab.output.renderOutput(dataTable, element);\n",
              "          const docLink = document.createElement('div');\n",
              "          docLink.innerHTML = docLinkHtml;\n",
              "          element.appendChild(docLink);\n",
              "        }\n",
              "      </script>\n",
              "    </div>\n",
              "  </div>\n",
              "  "
            ],
            "text/plain": [
              "   customerID  gender  SeniorCitizen  ... MonthlyCharges TotalCharges  Churn\n",
              "0  7590-VHVEG  Female              0  ...          29.85        29.85     No\n",
              "1  5575-GNVDE    Male              0  ...          56.95       1889.5     No\n",
              "2  3668-QPYBK    Male              0  ...          53.85       108.15    Yes\n",
              "3  7795-CFOCW    Male              0  ...          42.30      1840.75     No\n",
              "4  9237-HQITU  Female              0  ...          70.70       151.65    Yes\n",
              "\n",
              "[5 rows x 21 columns]"
            ]
          },
          "metadata": {},
          "execution_count": 154
        }
      ]
    },
    {
      "cell_type": "code",
      "source": [
        "df.drop('customerID', axis = 1, inplace=True)\n",
        "df['TotalCharges'] = pd.to_numeric(df['TotalCharges'],errors='coerce')"
      ],
      "metadata": {
        "id": "TbJuwXhV1ucx"
      },
      "execution_count": 155,
      "outputs": []
    },
    {
      "cell_type": "code",
      "source": [
        "df = df.dropna()"
      ],
      "metadata": {
        "id": "LVs08-0iY5Yg"
      },
      "execution_count": 156,
      "outputs": []
    },
    {
      "cell_type": "code",
      "source": [
        "cat_cols = []\n",
        "num_cols = []\n",
        "for col in df:\n",
        "  if df[col].dtype == 'object':\n",
        "    print(f'{col}, values : {df[col].unique()}')\n",
        "    cat_cols.append(col)\n",
        "  else:\n",
        "    num_cols.append(col)"
      ],
      "metadata": {
        "colab": {
          "base_uri": "https://localhost:8080/"
        },
        "id": "hu9l7Xwa1zRY",
        "outputId": "4e5d341e-778f-4b57-ce35-a7f83a030f99"
      },
      "execution_count": 157,
      "outputs": [
        {
          "output_type": "stream",
          "name": "stdout",
          "text": [
            "gender, values : ['Female' 'Male']\n",
            "Partner, values : ['Yes' 'No']\n",
            "Dependents, values : ['No' 'Yes']\n",
            "PhoneService, values : ['No' 'Yes']\n",
            "MultipleLines, values : ['No phone service' 'No' 'Yes']\n",
            "InternetService, values : ['DSL' 'Fiber optic' 'No']\n",
            "OnlineSecurity, values : ['No' 'Yes' 'No internet service']\n",
            "OnlineBackup, values : ['Yes' 'No' 'No internet service']\n",
            "DeviceProtection, values : ['No' 'Yes' 'No internet service']\n",
            "TechSupport, values : ['No' 'Yes' 'No internet service']\n",
            "StreamingTV, values : ['No' 'Yes' 'No internet service']\n",
            "StreamingMovies, values : ['No' 'Yes' 'No internet service']\n",
            "Contract, values : ['Month-to-month' 'One year' 'Two year']\n",
            "PaperlessBilling, values : ['Yes' 'No']\n",
            "PaymentMethod, values : ['Electronic check' 'Mailed check' 'Bank transfer (automatic)'\n",
            " 'Credit card (automatic)']\n",
            "Churn, values : ['No' 'Yes']\n"
          ]
        }
      ]
    },
    {
      "cell_type": "code",
      "source": [
        "print(num_cols)"
      ],
      "metadata": {
        "colab": {
          "base_uri": "https://localhost:8080/"
        },
        "id": "VLsChAZAWOk7",
        "outputId": "eb15c4d7-59db-4368-bc53-e1cd68e66f31"
      },
      "execution_count": 158,
      "outputs": [
        {
          "output_type": "stream",
          "name": "stdout",
          "text": [
            "['SeniorCitizen', 'tenure', 'MonthlyCharges', 'TotalCharges']\n"
          ]
        }
      ]
    },
    {
      "cell_type": "code",
      "source": [
        "duplicates_col = ['MultipleLines','StreamingMovies','StreamingTV', 'TechSupport','OnlineSecurity','DeviceProtection','OnlineBackup']\n",
        "df[duplicates_col] = df[duplicates_col].replace('No internet service', 'No')\n",
        "df['InternetService'] = df['InternetService'].replace('No internet service', 'No')"
      ],
      "metadata": {
        "id": "B4C18BLi8VEm"
      },
      "execution_count": 159,
      "outputs": []
    },
    {
      "cell_type": "code",
      "source": [
        "for col in df:\n",
        "  if df[col].dtype == 'object':\n",
        "    print(f'{col}, values : {df[col].unique()}')\n",
        "    cat_cols.append(col)\n",
        "  else:\n",
        "    num_cols.append(col)"
      ],
      "metadata": {
        "colab": {
          "base_uri": "https://localhost:8080/"
        },
        "id": "mx1zyCTCAqhW",
        "outputId": "c9e031ee-f2bd-4751-b859-6b3d92ff305b"
      },
      "execution_count": 160,
      "outputs": [
        {
          "output_type": "stream",
          "name": "stdout",
          "text": [
            "gender, values : ['Female' 'Male']\n",
            "Partner, values : ['Yes' 'No']\n",
            "Dependents, values : ['No' 'Yes']\n",
            "PhoneService, values : ['No' 'Yes']\n",
            "MultipleLines, values : ['No phone service' 'No' 'Yes']\n",
            "InternetService, values : ['DSL' 'Fiber optic' 'No']\n",
            "OnlineSecurity, values : ['No' 'Yes']\n",
            "OnlineBackup, values : ['Yes' 'No']\n",
            "DeviceProtection, values : ['No' 'Yes']\n",
            "TechSupport, values : ['No' 'Yes']\n",
            "StreamingTV, values : ['No' 'Yes']\n",
            "StreamingMovies, values : ['No' 'Yes']\n",
            "Contract, values : ['Month-to-month' 'One year' 'Two year']\n",
            "PaperlessBilling, values : ['Yes' 'No']\n",
            "PaymentMethod, values : ['Electronic check' 'Mailed check' 'Bank transfer (automatic)'\n",
            " 'Credit card (automatic)']\n",
            "Churn, values : ['No' 'Yes']\n"
          ]
        }
      ]
    },
    {
      "cell_type": "code",
      "source": [
        "from sklearn.preprocessing import LabelEncoder\n",
        "\n",
        "encoder = LabelEncoder()\n",
        "df[cat_cols] = df[cat_cols].apply(encoder.fit_transform)\n",
        "print(df[cat_cols])"
      ],
      "metadata": {
        "colab": {
          "base_uri": "https://localhost:8080/"
        },
        "id": "fkkBYKR44R0g",
        "outputId": "c933fee0-0529-4bcf-9813-b3ca3d24dd5d"
      },
      "execution_count": 161,
      "outputs": [
        {
          "output_type": "stream",
          "name": "stdout",
          "text": [
            "      gender  Partner  Dependents  ...  PaperlessBilling  PaymentMethod  Churn\n",
            "0          0        1           0  ...                 1              2      0\n",
            "1          1        0           0  ...                 0              3      0\n",
            "2          1        0           0  ...                 1              3      1\n",
            "3          1        0           0  ...                 0              0      0\n",
            "4          0        0           0  ...                 1              2      1\n",
            "...      ...      ...         ...  ...               ...            ...    ...\n",
            "7038       1        1           1  ...                 1              3      0\n",
            "7039       0        1           1  ...                 1              1      0\n",
            "7040       0        1           1  ...                 1              2      0\n",
            "7041       1        1           0  ...                 1              3      1\n",
            "7042       1        0           0  ...                 1              0      0\n",
            "\n",
            "[7032 rows x 32 columns]\n"
          ]
        }
      ]
    },
    {
      "cell_type": "code",
      "source": [
        "for col in df:\n",
        "  print(f'{col}, values : {df[col].unique()}')"
      ],
      "metadata": {
        "colab": {
          "base_uri": "https://localhost:8080/"
        },
        "id": "CPHeHkhj-JK5",
        "outputId": "cd6567ee-c138-46ed-9dbb-72ea06a9f035"
      },
      "execution_count": 162,
      "outputs": [
        {
          "output_type": "stream",
          "name": "stdout",
          "text": [
            "gender, values : [0 1]\n",
            "SeniorCitizen, values : [0 1]\n",
            "Partner, values : [1 0]\n",
            "Dependents, values : [0 1]\n",
            "tenure, values : [ 1 34  2 45  8 22 10 28 62 13 16 58 49 25 69 52 71 21 12 30 47 72 17 27\n",
            "  5 46 11 70 63 43 15 60 18 66  9  3 31 50 64 56  7 42 35 48 29 65 38 68\n",
            " 32 55 37 36 41  6  4 33 67 23 57 61 14 20 53 40 59 24 44 19 54 51 26 39]\n",
            "PhoneService, values : [0 1]\n",
            "MultipleLines, values : [1 0 2]\n",
            "InternetService, values : [0 1 2]\n",
            "OnlineSecurity, values : [0 1]\n",
            "OnlineBackup, values : [1 0]\n",
            "DeviceProtection, values : [0 1]\n",
            "TechSupport, values : [0 1]\n",
            "StreamingTV, values : [0 1]\n",
            "StreamingMovies, values : [0 1]\n",
            "Contract, values : [0 1 2]\n",
            "PaperlessBilling, values : [1 0]\n",
            "PaymentMethod, values : [2 3 0 1]\n",
            "MonthlyCharges, values : [29.85 56.95 53.85 ... 63.1  44.2  78.7 ]\n",
            "TotalCharges, values : [  29.85 1889.5   108.15 ...  346.45  306.6  6844.5 ]\n",
            "Churn, values : [0 1]\n"
          ]
        }
      ]
    },
    {
      "cell_type": "code",
      "source": [
        "from sklearn.preprocessing import MinMaxScaler\n",
        "\n",
        "df[num_cols] = MinMaxScaler().fit_transform(df[num_cols])"
      ],
      "metadata": {
        "id": "3U6U7rc_A_j_"
      },
      "execution_count": 163,
      "outputs": []
    },
    {
      "cell_type": "code",
      "source": [
        "X = df.drop('Churn', axis = 1)\n",
        "y = df['Churn']"
      ],
      "metadata": {
        "id": "oxEfJQ8icviZ"
      },
      "execution_count": 164,
      "outputs": []
    },
    {
      "cell_type": "code",
      "source": [
        "from sklearn.model_selection import train_test_split\n",
        "\n",
        "X_train, X_test, y_train, y_test = train_test_split(X, y, test_size=0.2)"
      ],
      "metadata": {
        "id": "66NwmtSBbWBd"
      },
      "execution_count": 165,
      "outputs": []
    },
    {
      "cell_type": "code",
      "source": [
        "model_1 = keras.Sequential([\n",
        "    keras.layers.Dense(30, input_shape = (19,), activation = 'relu'),\n",
        "    keras.layers.Dense(15, activation = 'relu'),\n",
        "    keras.layers.Dense(1, activation = 'sigmoid')\n",
        "])\n",
        "\n",
        "model_1.compile(optimizer='adam', loss='binary_crossentropy', metrics=['accuracy'])\n",
        "\n",
        "model_1.fit(X_train, y_train, epochs = 150)"
      ],
      "metadata": {
        "colab": {
          "base_uri": "https://localhost:8080/"
        },
        "id": "_-qarvIQaYOH",
        "outputId": "b42b4002-3883-4500-c420-4c863f7d0667"
      },
      "execution_count": 166,
      "outputs": [
        {
          "output_type": "stream",
          "name": "stdout",
          "text": [
            "Epoch 1/150\n",
            "176/176 [==============================] - 1s 2ms/step - loss: 0.5497 - accuracy: 0.7083\n",
            "Epoch 2/150\n",
            "176/176 [==============================] - 0s 2ms/step - loss: 0.4477 - accuracy: 0.7774\n",
            "Epoch 3/150\n",
            "176/176 [==============================] - 1s 4ms/step - loss: 0.4387 - accuracy: 0.7845\n",
            "Epoch 4/150\n",
            "176/176 [==============================] - 1s 5ms/step - loss: 0.4337 - accuracy: 0.7888\n",
            "Epoch 5/150\n",
            "176/176 [==============================] - 1s 5ms/step - loss: 0.4298 - accuracy: 0.7940\n",
            "Epoch 6/150\n",
            "176/176 [==============================] - 1s 6ms/step - loss: 0.4257 - accuracy: 0.7947\n",
            "Epoch 7/150\n",
            "176/176 [==============================] - 1s 4ms/step - loss: 0.4248 - accuracy: 0.7929\n",
            "Epoch 8/150\n",
            "176/176 [==============================] - 1s 3ms/step - loss: 0.4227 - accuracy: 0.8005\n",
            "Epoch 9/150\n",
            "176/176 [==============================] - 1s 3ms/step - loss: 0.4210 - accuracy: 0.8012\n",
            "Epoch 10/150\n",
            "176/176 [==============================] - 1s 4ms/step - loss: 0.4189 - accuracy: 0.7989\n",
            "Epoch 11/150\n",
            "176/176 [==============================] - 1s 4ms/step - loss: 0.4193 - accuracy: 0.8030\n",
            "Epoch 12/150\n",
            "176/176 [==============================] - 1s 4ms/step - loss: 0.4166 - accuracy: 0.8039\n",
            "Epoch 13/150\n",
            "176/176 [==============================] - 1s 4ms/step - loss: 0.4160 - accuracy: 0.8034\n",
            "Epoch 14/150\n",
            "176/176 [==============================] - 1s 3ms/step - loss: 0.4142 - accuracy: 0.8073\n",
            "Epoch 15/150\n",
            "176/176 [==============================] - 1s 4ms/step - loss: 0.4141 - accuracy: 0.8073\n",
            "Epoch 16/150\n",
            "176/176 [==============================] - 1s 4ms/step - loss: 0.4120 - accuracy: 0.8080\n",
            "Epoch 17/150\n",
            "176/176 [==============================] - 1s 3ms/step - loss: 0.4121 - accuracy: 0.8080\n",
            "Epoch 18/150\n",
            "176/176 [==============================] - 1s 4ms/step - loss: 0.4103 - accuracy: 0.8089\n",
            "Epoch 19/150\n",
            "176/176 [==============================] - 1s 3ms/step - loss: 0.4094 - accuracy: 0.8094\n",
            "Epoch 20/150\n",
            "176/176 [==============================] - 1s 4ms/step - loss: 0.4091 - accuracy: 0.8071\n",
            "Epoch 21/150\n",
            "176/176 [==============================] - 1s 5ms/step - loss: 0.4073 - accuracy: 0.8084\n",
            "Epoch 22/150\n",
            "176/176 [==============================] - 1s 3ms/step - loss: 0.4074 - accuracy: 0.8084\n",
            "Epoch 23/150\n",
            "176/176 [==============================] - 1s 3ms/step - loss: 0.4055 - accuracy: 0.8078\n",
            "Epoch 24/150\n",
            "176/176 [==============================] - 1s 4ms/step - loss: 0.4054 - accuracy: 0.8116\n",
            "Epoch 25/150\n",
            "176/176 [==============================] - 1s 4ms/step - loss: 0.4046 - accuracy: 0.8105\n",
            "Epoch 26/150\n",
            "176/176 [==============================] - 1s 4ms/step - loss: 0.4036 - accuracy: 0.8100\n",
            "Epoch 27/150\n",
            "176/176 [==============================] - 1s 4ms/step - loss: 0.4022 - accuracy: 0.8135\n",
            "Epoch 28/150\n",
            "176/176 [==============================] - 1s 4ms/step - loss: 0.4013 - accuracy: 0.8114\n",
            "Epoch 29/150\n",
            "176/176 [==============================] - 1s 5ms/step - loss: 0.4014 - accuracy: 0.8156\n",
            "Epoch 30/150\n",
            "176/176 [==============================] - 1s 4ms/step - loss: 0.3997 - accuracy: 0.8112\n",
            "Epoch 31/150\n",
            "176/176 [==============================] - 1s 3ms/step - loss: 0.4008 - accuracy: 0.8123\n",
            "Epoch 32/150\n",
            "176/176 [==============================] - 1s 3ms/step - loss: 0.3992 - accuracy: 0.8112\n",
            "Epoch 33/150\n",
            "176/176 [==============================] - 1s 4ms/step - loss: 0.3995 - accuracy: 0.8137\n",
            "Epoch 34/150\n",
            "176/176 [==============================] - 1s 4ms/step - loss: 0.3975 - accuracy: 0.8139\n",
            "Epoch 35/150\n",
            "176/176 [==============================] - 1s 5ms/step - loss: 0.3974 - accuracy: 0.8165\n",
            "Epoch 36/150\n",
            "176/176 [==============================] - 1s 4ms/step - loss: 0.3978 - accuracy: 0.8114\n",
            "Epoch 37/150\n",
            "176/176 [==============================] - 1s 5ms/step - loss: 0.3968 - accuracy: 0.8151\n",
            "Epoch 38/150\n",
            "176/176 [==============================] - 1s 3ms/step - loss: 0.3958 - accuracy: 0.8172\n",
            "Epoch 39/150\n",
            "176/176 [==============================] - 1s 3ms/step - loss: 0.3950 - accuracy: 0.8133\n",
            "Epoch 40/150\n",
            "176/176 [==============================] - 1s 4ms/step - loss: 0.3943 - accuracy: 0.8130\n",
            "Epoch 41/150\n",
            "176/176 [==============================] - 1s 3ms/step - loss: 0.3958 - accuracy: 0.8174\n",
            "Epoch 42/150\n",
            "176/176 [==============================] - 1s 3ms/step - loss: 0.3942 - accuracy: 0.8151\n",
            "Epoch 43/150\n",
            "176/176 [==============================] - 1s 3ms/step - loss: 0.3928 - accuracy: 0.8172\n",
            "Epoch 44/150\n",
            "176/176 [==============================] - 1s 3ms/step - loss: 0.3934 - accuracy: 0.8142\n",
            "Epoch 45/150\n",
            "176/176 [==============================] - 1s 4ms/step - loss: 0.3926 - accuracy: 0.8167\n",
            "Epoch 46/150\n",
            "176/176 [==============================] - 1s 3ms/step - loss: 0.3916 - accuracy: 0.8188\n",
            "Epoch 47/150\n",
            "176/176 [==============================] - 1s 3ms/step - loss: 0.3918 - accuracy: 0.8180\n",
            "Epoch 48/150\n",
            "176/176 [==============================] - 1s 5ms/step - loss: 0.3897 - accuracy: 0.8180\n",
            "Epoch 49/150\n",
            "176/176 [==============================] - 1s 3ms/step - loss: 0.3904 - accuracy: 0.8181\n",
            "Epoch 50/150\n",
            "176/176 [==============================] - 1s 3ms/step - loss: 0.3901 - accuracy: 0.8171\n",
            "Epoch 51/150\n",
            "176/176 [==============================] - 1s 3ms/step - loss: 0.3921 - accuracy: 0.8146\n",
            "Epoch 52/150\n",
            "176/176 [==============================] - 1s 3ms/step - loss: 0.3892 - accuracy: 0.8185\n",
            "Epoch 53/150\n",
            "176/176 [==============================] - 1s 3ms/step - loss: 0.3899 - accuracy: 0.8178\n",
            "Epoch 54/150\n",
            "176/176 [==============================] - 1s 3ms/step - loss: 0.3875 - accuracy: 0.8226\n",
            "Epoch 55/150\n",
            "176/176 [==============================] - 1s 4ms/step - loss: 0.3877 - accuracy: 0.8213\n",
            "Epoch 56/150\n",
            "176/176 [==============================] - 1s 4ms/step - loss: 0.3878 - accuracy: 0.8194\n",
            "Epoch 57/150\n",
            "176/176 [==============================] - 1s 4ms/step - loss: 0.3881 - accuracy: 0.8199\n",
            "Epoch 58/150\n",
            "176/176 [==============================] - 1s 3ms/step - loss: 0.3868 - accuracy: 0.8180\n",
            "Epoch 59/150\n",
            "176/176 [==============================] - 1s 6ms/step - loss: 0.3868 - accuracy: 0.8169\n",
            "Epoch 60/150\n",
            "176/176 [==============================] - 1s 5ms/step - loss: 0.3868 - accuracy: 0.8176\n",
            "Epoch 61/150\n",
            "176/176 [==============================] - 1s 3ms/step - loss: 0.3859 - accuracy: 0.8183\n",
            "Epoch 62/150\n",
            "176/176 [==============================] - 1s 3ms/step - loss: 0.3848 - accuracy: 0.8212\n",
            "Epoch 63/150\n",
            "176/176 [==============================] - 1s 3ms/step - loss: 0.3857 - accuracy: 0.8172\n",
            "Epoch 64/150\n",
            "176/176 [==============================] - 1s 3ms/step - loss: 0.3835 - accuracy: 0.8251\n",
            "Epoch 65/150\n",
            "176/176 [==============================] - 1s 3ms/step - loss: 0.3840 - accuracy: 0.8231\n",
            "Epoch 66/150\n",
            "176/176 [==============================] - 1s 4ms/step - loss: 0.3850 - accuracy: 0.8213\n",
            "Epoch 67/150\n",
            "176/176 [==============================] - 1s 3ms/step - loss: 0.3847 - accuracy: 0.8236\n",
            "Epoch 68/150\n",
            "176/176 [==============================] - 1s 3ms/step - loss: 0.3835 - accuracy: 0.8224\n",
            "Epoch 69/150\n",
            "176/176 [==============================] - 1s 3ms/step - loss: 0.3834 - accuracy: 0.8212\n",
            "Epoch 70/150\n",
            "176/176 [==============================] - 1s 4ms/step - loss: 0.3848 - accuracy: 0.8229\n",
            "Epoch 71/150\n",
            "176/176 [==============================] - 1s 3ms/step - loss: 0.3822 - accuracy: 0.8217\n",
            "Epoch 72/150\n",
            "176/176 [==============================] - 1s 3ms/step - loss: 0.3817 - accuracy: 0.8236\n",
            "Epoch 73/150\n",
            "176/176 [==============================] - 1s 3ms/step - loss: 0.3814 - accuracy: 0.8219\n",
            "Epoch 74/150\n",
            "176/176 [==============================] - 0s 2ms/step - loss: 0.3801 - accuracy: 0.8235\n",
            "Epoch 75/150\n",
            "176/176 [==============================] - 0s 2ms/step - loss: 0.3811 - accuracy: 0.8238\n",
            "Epoch 76/150\n",
            "176/176 [==============================] - 0s 2ms/step - loss: 0.3798 - accuracy: 0.8217\n",
            "Epoch 77/150\n",
            "176/176 [==============================] - 0s 2ms/step - loss: 0.3792 - accuracy: 0.8236\n",
            "Epoch 78/150\n",
            "176/176 [==============================] - 0s 2ms/step - loss: 0.3803 - accuracy: 0.8240\n",
            "Epoch 79/150\n",
            "176/176 [==============================] - 0s 2ms/step - loss: 0.3797 - accuracy: 0.8235\n",
            "Epoch 80/150\n",
            "176/176 [==============================] - 0s 2ms/step - loss: 0.3791 - accuracy: 0.8247\n",
            "Epoch 81/150\n",
            "176/176 [==============================] - 0s 2ms/step - loss: 0.3779 - accuracy: 0.8238\n",
            "Epoch 82/150\n",
            "176/176 [==============================] - 0s 2ms/step - loss: 0.3778 - accuracy: 0.8236\n",
            "Epoch 83/150\n",
            "176/176 [==============================] - 0s 2ms/step - loss: 0.3790 - accuracy: 0.8235\n",
            "Epoch 84/150\n",
            "176/176 [==============================] - 0s 2ms/step - loss: 0.3787 - accuracy: 0.8260\n",
            "Epoch 85/150\n",
            "176/176 [==============================] - 0s 2ms/step - loss: 0.3779 - accuracy: 0.8249\n",
            "Epoch 86/150\n",
            "176/176 [==============================] - 0s 2ms/step - loss: 0.3771 - accuracy: 0.8233\n",
            "Epoch 87/150\n",
            "176/176 [==============================] - 0s 2ms/step - loss: 0.3772 - accuracy: 0.8229\n",
            "Epoch 88/150\n",
            "176/176 [==============================] - 0s 2ms/step - loss: 0.3763 - accuracy: 0.8251\n",
            "Epoch 89/150\n",
            "176/176 [==============================] - 0s 2ms/step - loss: 0.3760 - accuracy: 0.8252\n",
            "Epoch 90/150\n",
            "176/176 [==============================] - 0s 2ms/step - loss: 0.3753 - accuracy: 0.8226\n",
            "Epoch 91/150\n",
            "176/176 [==============================] - 0s 2ms/step - loss: 0.3744 - accuracy: 0.8231\n",
            "Epoch 92/150\n",
            "176/176 [==============================] - 0s 2ms/step - loss: 0.3749 - accuracy: 0.8245\n",
            "Epoch 93/150\n",
            "176/176 [==============================] - 0s 2ms/step - loss: 0.3760 - accuracy: 0.8249\n",
            "Epoch 94/150\n",
            "176/176 [==============================] - 0s 2ms/step - loss: 0.3746 - accuracy: 0.8260\n",
            "Epoch 95/150\n",
            "176/176 [==============================] - 0s 2ms/step - loss: 0.3729 - accuracy: 0.8267\n",
            "Epoch 96/150\n",
            "176/176 [==============================] - 0s 2ms/step - loss: 0.3731 - accuracy: 0.8265\n",
            "Epoch 97/150\n",
            "176/176 [==============================] - 0s 2ms/step - loss: 0.3750 - accuracy: 0.8228\n",
            "Epoch 98/150\n",
            "176/176 [==============================] - 0s 2ms/step - loss: 0.3732 - accuracy: 0.8277\n",
            "Epoch 99/150\n",
            "176/176 [==============================] - 0s 2ms/step - loss: 0.3726 - accuracy: 0.8267\n",
            "Epoch 100/150\n",
            "176/176 [==============================] - 0s 2ms/step - loss: 0.3721 - accuracy: 0.8258\n",
            "Epoch 101/150\n",
            "176/176 [==============================] - 0s 2ms/step - loss: 0.3724 - accuracy: 0.8281\n",
            "Epoch 102/150\n",
            "176/176 [==============================] - 0s 2ms/step - loss: 0.3708 - accuracy: 0.8272\n",
            "Epoch 103/150\n",
            "176/176 [==============================] - 0s 2ms/step - loss: 0.3718 - accuracy: 0.8318\n",
            "Epoch 104/150\n",
            "176/176 [==============================] - 0s 2ms/step - loss: 0.3712 - accuracy: 0.8272\n",
            "Epoch 105/150\n",
            "176/176 [==============================] - 0s 2ms/step - loss: 0.3701 - accuracy: 0.8251\n",
            "Epoch 106/150\n",
            "176/176 [==============================] - 0s 2ms/step - loss: 0.3685 - accuracy: 0.8324\n",
            "Epoch 107/150\n",
            "176/176 [==============================] - 0s 2ms/step - loss: 0.3683 - accuracy: 0.8290\n",
            "Epoch 108/150\n",
            "176/176 [==============================] - 0s 2ms/step - loss: 0.3689 - accuracy: 0.8270\n",
            "Epoch 109/150\n",
            "176/176 [==============================] - 0s 2ms/step - loss: 0.3686 - accuracy: 0.8295\n",
            "Epoch 110/150\n",
            "176/176 [==============================] - 0s 2ms/step - loss: 0.3682 - accuracy: 0.8283\n",
            "Epoch 111/150\n",
            "176/176 [==============================] - 0s 2ms/step - loss: 0.3678 - accuracy: 0.8297\n",
            "Epoch 112/150\n",
            "176/176 [==============================] - 0s 2ms/step - loss: 0.3677 - accuracy: 0.8279\n",
            "Epoch 113/150\n",
            "176/176 [==============================] - 0s 2ms/step - loss: 0.3667 - accuracy: 0.8293\n",
            "Epoch 114/150\n",
            "176/176 [==============================] - 0s 2ms/step - loss: 0.3666 - accuracy: 0.8299\n",
            "Epoch 115/150\n",
            "176/176 [==============================] - 0s 2ms/step - loss: 0.3653 - accuracy: 0.8320\n",
            "Epoch 116/150\n",
            "176/176 [==============================] - 0s 2ms/step - loss: 0.3653 - accuracy: 0.8331\n",
            "Epoch 117/150\n",
            "176/176 [==============================] - 0s 2ms/step - loss: 0.3645 - accuracy: 0.8300\n",
            "Epoch 118/150\n",
            "176/176 [==============================] - 0s 2ms/step - loss: 0.3648 - accuracy: 0.8306\n",
            "Epoch 119/150\n",
            "176/176 [==============================] - 0s 2ms/step - loss: 0.3642 - accuracy: 0.8332\n",
            "Epoch 120/150\n",
            "176/176 [==============================] - 0s 2ms/step - loss: 0.3644 - accuracy: 0.8313\n",
            "Epoch 121/150\n",
            "176/176 [==============================] - 0s 2ms/step - loss: 0.3627 - accuracy: 0.8340\n",
            "Epoch 122/150\n",
            "176/176 [==============================] - 0s 2ms/step - loss: 0.3633 - accuracy: 0.8322\n",
            "Epoch 123/150\n",
            "176/176 [==============================] - 0s 2ms/step - loss: 0.3646 - accuracy: 0.8316\n",
            "Epoch 124/150\n",
            "176/176 [==============================] - 0s 2ms/step - loss: 0.3629 - accuracy: 0.8348\n",
            "Epoch 125/150\n",
            "176/176 [==============================] - 0s 2ms/step - loss: 0.3622 - accuracy: 0.8325\n",
            "Epoch 126/150\n",
            "176/176 [==============================] - 0s 2ms/step - loss: 0.3615 - accuracy: 0.8350\n",
            "Epoch 127/150\n",
            "176/176 [==============================] - 0s 2ms/step - loss: 0.3623 - accuracy: 0.8304\n",
            "Epoch 128/150\n",
            "176/176 [==============================] - 0s 2ms/step - loss: 0.3601 - accuracy: 0.8363\n",
            "Epoch 129/150\n",
            "176/176 [==============================] - 0s 2ms/step - loss: 0.3625 - accuracy: 0.8315\n",
            "Epoch 130/150\n",
            "176/176 [==============================] - 0s 2ms/step - loss: 0.3607 - accuracy: 0.8332\n",
            "Epoch 131/150\n",
            "176/176 [==============================] - 0s 2ms/step - loss: 0.3615 - accuracy: 0.8338\n",
            "Epoch 132/150\n",
            "176/176 [==============================] - 0s 2ms/step - loss: 0.3594 - accuracy: 0.8341\n",
            "Epoch 133/150\n",
            "176/176 [==============================] - 0s 2ms/step - loss: 0.3589 - accuracy: 0.8357\n",
            "Epoch 134/150\n",
            "176/176 [==============================] - 0s 2ms/step - loss: 0.3580 - accuracy: 0.8357\n",
            "Epoch 135/150\n",
            "176/176 [==============================] - 0s 2ms/step - loss: 0.3582 - accuracy: 0.8343\n",
            "Epoch 136/150\n",
            "176/176 [==============================] - 0s 2ms/step - loss: 0.3588 - accuracy: 0.8324\n",
            "Epoch 137/150\n",
            "176/176 [==============================] - 0s 2ms/step - loss: 0.3591 - accuracy: 0.8325\n",
            "Epoch 138/150\n",
            "176/176 [==============================] - 0s 2ms/step - loss: 0.3607 - accuracy: 0.8345\n",
            "Epoch 139/150\n",
            "176/176 [==============================] - 0s 2ms/step - loss: 0.3582 - accuracy: 0.8357\n",
            "Epoch 140/150\n",
            "176/176 [==============================] - 0s 2ms/step - loss: 0.3563 - accuracy: 0.8345\n",
            "Epoch 141/150\n",
            "176/176 [==============================] - 0s 2ms/step - loss: 0.3563 - accuracy: 0.8368\n",
            "Epoch 142/150\n",
            "176/176 [==============================] - 0s 2ms/step - loss: 0.3569 - accuracy: 0.8393\n",
            "Epoch 143/150\n",
            "176/176 [==============================] - 0s 2ms/step - loss: 0.3562 - accuracy: 0.8364\n",
            "Epoch 144/150\n",
            "176/176 [==============================] - 0s 2ms/step - loss: 0.3569 - accuracy: 0.8340\n",
            "Epoch 145/150\n",
            "176/176 [==============================] - 0s 2ms/step - loss: 0.3555 - accuracy: 0.8372\n",
            "Epoch 146/150\n",
            "176/176 [==============================] - 0s 2ms/step - loss: 0.3547 - accuracy: 0.8357\n",
            "Epoch 147/150\n",
            "176/176 [==============================] - 0s 2ms/step - loss: 0.3552 - accuracy: 0.8356\n",
            "Epoch 148/150\n",
            "176/176 [==============================] - 0s 2ms/step - loss: 0.3544 - accuracy: 0.8363\n",
            "Epoch 149/150\n",
            "176/176 [==============================] - 0s 2ms/step - loss: 0.3538 - accuracy: 0.8398\n",
            "Epoch 150/150\n",
            "176/176 [==============================] - 0s 2ms/step - loss: 0.3531 - accuracy: 0.8377\n"
          ]
        },
        {
          "output_type": "execute_result",
          "data": {
            "text/plain": [
              "<keras.callbacks.History at 0x7f73405f6750>"
            ]
          },
          "metadata": {},
          "execution_count": 166
        }
      ]
    },
    {
      "cell_type": "code",
      "source": [
        "model_1_params = model_1.evaluate(X_test, y_test)\n",
        "y_model_1 = model_1.predict(X_test)"
      ],
      "metadata": {
        "colab": {
          "base_uri": "https://localhost:8080/"
        },
        "id": "wHZ3WKBGe6ZS",
        "outputId": "f9c05e10-dd8f-49f8-e538-3cfdf836705e"
      },
      "execution_count": 167,
      "outputs": [
        {
          "output_type": "stream",
          "name": "stdout",
          "text": [
            "44/44 [==============================] - 0s 2ms/step - loss: 0.4705 - accuracy: 0.7889\n"
          ]
        }
      ]
    },
    {
      "cell_type": "code",
      "source": [
        "model_2 = keras.Sequential([\n",
        "    keras.layers.Dense(30, input_shape = (19,), activation = 'relu'),\n",
        "    keras.layers.Dense(15, activation = 'relu'),\n",
        "    keras.layers.Dense(1, activation = 'sigmoid')\n",
        "])\n",
        "\n",
        "model_2.compile(optimizer='SGD', loss='binary_crossentropy', metrics=['accuracy'])\n",
        "\n",
        "model_2.fit(X_train, y_train, epochs = 150)"
      ],
      "metadata": {
        "colab": {
          "base_uri": "https://localhost:8080/"
        },
        "id": "dg03wsdSfG3R",
        "outputId": "52ea9938-413c-4426-b20d-3bd30f7790c9"
      },
      "execution_count": 168,
      "outputs": [
        {
          "output_type": "stream",
          "name": "stdout",
          "text": [
            "Epoch 1/150\n",
            "176/176 [==============================] - 1s 2ms/step - loss: 0.5731 - accuracy: 0.6932\n",
            "Epoch 2/150\n",
            "176/176 [==============================] - 0s 2ms/step - loss: 0.4884 - accuracy: 0.7460\n",
            "Epoch 3/150\n",
            "176/176 [==============================] - 0s 2ms/step - loss: 0.4645 - accuracy: 0.7678\n",
            "Epoch 4/150\n",
            "176/176 [==============================] - 0s 2ms/step - loss: 0.4535 - accuracy: 0.7735\n",
            "Epoch 5/150\n",
            "176/176 [==============================] - 0s 2ms/step - loss: 0.4485 - accuracy: 0.7742\n",
            "Epoch 6/150\n",
            "176/176 [==============================] - 0s 2ms/step - loss: 0.4454 - accuracy: 0.7799\n",
            "Epoch 7/150\n",
            "176/176 [==============================] - 0s 2ms/step - loss: 0.4428 - accuracy: 0.7831\n",
            "Epoch 8/150\n",
            "176/176 [==============================] - 0s 2ms/step - loss: 0.4408 - accuracy: 0.7844\n",
            "Epoch 9/150\n",
            "176/176 [==============================] - 0s 2ms/step - loss: 0.4398 - accuracy: 0.7838\n",
            "Epoch 10/150\n",
            "176/176 [==============================] - 0s 2ms/step - loss: 0.4380 - accuracy: 0.7840\n",
            "Epoch 11/150\n",
            "176/176 [==============================] - 0s 2ms/step - loss: 0.4365 - accuracy: 0.7884\n",
            "Epoch 12/150\n",
            "176/176 [==============================] - 0s 2ms/step - loss: 0.4357 - accuracy: 0.7868\n",
            "Epoch 13/150\n",
            "176/176 [==============================] - 0s 2ms/step - loss: 0.4342 - accuracy: 0.7895\n",
            "Epoch 14/150\n",
            "176/176 [==============================] - 0s 2ms/step - loss: 0.4327 - accuracy: 0.7900\n",
            "Epoch 15/150\n",
            "176/176 [==============================] - 0s 2ms/step - loss: 0.4322 - accuracy: 0.7879\n",
            "Epoch 16/150\n",
            "176/176 [==============================] - 0s 2ms/step - loss: 0.4310 - accuracy: 0.7897\n",
            "Epoch 17/150\n",
            "176/176 [==============================] - 0s 2ms/step - loss: 0.4302 - accuracy: 0.7931\n",
            "Epoch 18/150\n",
            "176/176 [==============================] - 0s 2ms/step - loss: 0.4287 - accuracy: 0.7954\n",
            "Epoch 19/150\n",
            "176/176 [==============================] - 0s 2ms/step - loss: 0.4287 - accuracy: 0.7941\n",
            "Epoch 20/150\n",
            "176/176 [==============================] - 0s 2ms/step - loss: 0.4276 - accuracy: 0.7934\n",
            "Epoch 21/150\n",
            "176/176 [==============================] - 0s 2ms/step - loss: 0.4268 - accuracy: 0.7932\n",
            "Epoch 22/150\n",
            "176/176 [==============================] - 0s 2ms/step - loss: 0.4261 - accuracy: 0.7968\n",
            "Epoch 23/150\n",
            "176/176 [==============================] - 0s 2ms/step - loss: 0.4254 - accuracy: 0.7995\n",
            "Epoch 24/150\n",
            "176/176 [==============================] - 0s 2ms/step - loss: 0.4254 - accuracy: 0.7972\n",
            "Epoch 25/150\n",
            "176/176 [==============================] - 0s 2ms/step - loss: 0.4248 - accuracy: 0.7964\n",
            "Epoch 26/150\n",
            "176/176 [==============================] - 0s 2ms/step - loss: 0.4241 - accuracy: 0.7995\n",
            "Epoch 27/150\n",
            "176/176 [==============================] - 0s 2ms/step - loss: 0.4238 - accuracy: 0.8011\n",
            "Epoch 28/150\n",
            "176/176 [==============================] - 0s 2ms/step - loss: 0.4232 - accuracy: 0.7996\n",
            "Epoch 29/150\n",
            "176/176 [==============================] - 0s 2ms/step - loss: 0.4225 - accuracy: 0.8014\n",
            "Epoch 30/150\n",
            "176/176 [==============================] - 0s 2ms/step - loss: 0.4220 - accuracy: 0.8027\n",
            "Epoch 31/150\n",
            "176/176 [==============================] - 0s 2ms/step - loss: 0.4218 - accuracy: 0.8012\n",
            "Epoch 32/150\n",
            "176/176 [==============================] - 0s 2ms/step - loss: 0.4214 - accuracy: 0.8027\n",
            "Epoch 33/150\n",
            "176/176 [==============================] - 0s 2ms/step - loss: 0.4214 - accuracy: 0.8007\n",
            "Epoch 34/150\n",
            "176/176 [==============================] - 0s 2ms/step - loss: 0.4207 - accuracy: 0.7989\n",
            "Epoch 35/150\n",
            "176/176 [==============================] - 0s 2ms/step - loss: 0.4206 - accuracy: 0.8005\n",
            "Epoch 36/150\n",
            "176/176 [==============================] - 0s 2ms/step - loss: 0.4197 - accuracy: 0.8005\n",
            "Epoch 37/150\n",
            "176/176 [==============================] - 0s 2ms/step - loss: 0.4197 - accuracy: 0.8007\n",
            "Epoch 38/150\n",
            "176/176 [==============================] - 0s 2ms/step - loss: 0.4203 - accuracy: 0.8002\n",
            "Epoch 39/150\n",
            "176/176 [==============================] - 0s 2ms/step - loss: 0.4196 - accuracy: 0.8039\n",
            "Epoch 40/150\n",
            "176/176 [==============================] - 0s 2ms/step - loss: 0.4192 - accuracy: 0.8034\n",
            "Epoch 41/150\n",
            "176/176 [==============================] - 0s 2ms/step - loss: 0.4193 - accuracy: 0.8032\n",
            "Epoch 42/150\n",
            "176/176 [==============================] - 0s 2ms/step - loss: 0.4183 - accuracy: 0.8069\n",
            "Epoch 43/150\n",
            "176/176 [==============================] - 0s 2ms/step - loss: 0.4180 - accuracy: 0.8030\n",
            "Epoch 44/150\n",
            "176/176 [==============================] - 0s 2ms/step - loss: 0.4178 - accuracy: 0.8032\n",
            "Epoch 45/150\n",
            "176/176 [==============================] - 0s 2ms/step - loss: 0.4182 - accuracy: 0.8032\n",
            "Epoch 46/150\n",
            "176/176 [==============================] - 0s 2ms/step - loss: 0.4178 - accuracy: 0.8041\n",
            "Epoch 47/150\n",
            "176/176 [==============================] - 0s 2ms/step - loss: 0.4170 - accuracy: 0.8055\n",
            "Epoch 48/150\n",
            "176/176 [==============================] - 0s 2ms/step - loss: 0.4167 - accuracy: 0.8060\n",
            "Epoch 49/150\n",
            "176/176 [==============================] - 0s 2ms/step - loss: 0.4173 - accuracy: 0.8050\n",
            "Epoch 50/150\n",
            "176/176 [==============================] - 0s 2ms/step - loss: 0.4164 - accuracy: 0.8050\n",
            "Epoch 51/150\n",
            "176/176 [==============================] - 0s 2ms/step - loss: 0.4165 - accuracy: 0.8023\n",
            "Epoch 52/150\n",
            "176/176 [==============================] - 0s 2ms/step - loss: 0.4163 - accuracy: 0.8036\n",
            "Epoch 53/150\n",
            "176/176 [==============================] - 0s 1ms/step - loss: 0.4160 - accuracy: 0.8059\n",
            "Epoch 54/150\n",
            "176/176 [==============================] - 0s 2ms/step - loss: 0.4157 - accuracy: 0.8036\n",
            "Epoch 55/150\n",
            "176/176 [==============================] - 0s 2ms/step - loss: 0.4152 - accuracy: 0.8043\n",
            "Epoch 56/150\n",
            "176/176 [==============================] - 0s 2ms/step - loss: 0.4157 - accuracy: 0.8032\n",
            "Epoch 57/150\n",
            "176/176 [==============================] - 0s 1ms/step - loss: 0.4151 - accuracy: 0.8052\n",
            "Epoch 58/150\n",
            "176/176 [==============================] - 0s 2ms/step - loss: 0.4146 - accuracy: 0.8036\n",
            "Epoch 59/150\n",
            "176/176 [==============================] - 0s 2ms/step - loss: 0.4154 - accuracy: 0.8034\n",
            "Epoch 60/150\n",
            "176/176 [==============================] - 0s 1ms/step - loss: 0.4149 - accuracy: 0.8059\n",
            "Epoch 61/150\n",
            "176/176 [==============================] - 0s 2ms/step - loss: 0.4147 - accuracy: 0.8032\n",
            "Epoch 62/150\n",
            "176/176 [==============================] - 0s 2ms/step - loss: 0.4146 - accuracy: 0.8057\n",
            "Epoch 63/150\n",
            "176/176 [==============================] - 0s 2ms/step - loss: 0.4143 - accuracy: 0.8053\n",
            "Epoch 64/150\n",
            "176/176 [==============================] - 0s 1ms/step - loss: 0.4139 - accuracy: 0.8037\n",
            "Epoch 65/150\n",
            "176/176 [==============================] - 0s 2ms/step - loss: 0.4137 - accuracy: 0.8060\n",
            "Epoch 66/150\n",
            "176/176 [==============================] - 0s 1ms/step - loss: 0.4134 - accuracy: 0.8076\n",
            "Epoch 67/150\n",
            "176/176 [==============================] - 0s 2ms/step - loss: 0.4139 - accuracy: 0.8036\n",
            "Epoch 68/150\n",
            "176/176 [==============================] - 0s 2ms/step - loss: 0.4123 - accuracy: 0.8078\n",
            "Epoch 69/150\n",
            "176/176 [==============================] - 0s 2ms/step - loss: 0.4131 - accuracy: 0.8053\n",
            "Epoch 70/150\n",
            "176/176 [==============================] - 0s 2ms/step - loss: 0.4132 - accuracy: 0.8052\n",
            "Epoch 71/150\n",
            "176/176 [==============================] - 0s 2ms/step - loss: 0.4122 - accuracy: 0.8053\n",
            "Epoch 72/150\n",
            "176/176 [==============================] - 0s 1ms/step - loss: 0.4132 - accuracy: 0.8044\n",
            "Epoch 73/150\n",
            "176/176 [==============================] - 0s 2ms/step - loss: 0.4126 - accuracy: 0.8027\n",
            "Epoch 74/150\n",
            "176/176 [==============================] - 0s 1ms/step - loss: 0.4123 - accuracy: 0.8073\n",
            "Epoch 75/150\n",
            "176/176 [==============================] - 0s 2ms/step - loss: 0.4114 - accuracy: 0.8041\n",
            "Epoch 76/150\n",
            "176/176 [==============================] - 0s 2ms/step - loss: 0.4124 - accuracy: 0.8039\n",
            "Epoch 77/150\n",
            "176/176 [==============================] - 0s 2ms/step - loss: 0.4119 - accuracy: 0.8048\n",
            "Epoch 78/150\n",
            "176/176 [==============================] - 0s 2ms/step - loss: 0.4118 - accuracy: 0.8057\n",
            "Epoch 79/150\n",
            "176/176 [==============================] - 0s 2ms/step - loss: 0.4122 - accuracy: 0.8050\n",
            "Epoch 80/150\n",
            "176/176 [==============================] - 0s 2ms/step - loss: 0.4118 - accuracy: 0.8069\n",
            "Epoch 81/150\n",
            "176/176 [==============================] - 0s 2ms/step - loss: 0.4113 - accuracy: 0.8043\n",
            "Epoch 82/150\n",
            "176/176 [==============================] - 0s 2ms/step - loss: 0.4111 - accuracy: 0.8048\n",
            "Epoch 83/150\n",
            "176/176 [==============================] - 0s 2ms/step - loss: 0.4115 - accuracy: 0.8050\n",
            "Epoch 84/150\n",
            "176/176 [==============================] - 0s 2ms/step - loss: 0.4107 - accuracy: 0.8023\n",
            "Epoch 85/150\n",
            "176/176 [==============================] - 0s 2ms/step - loss: 0.4109 - accuracy: 0.8052\n",
            "Epoch 86/150\n",
            "176/176 [==============================] - 0s 2ms/step - loss: 0.4105 - accuracy: 0.8048\n",
            "Epoch 87/150\n",
            "176/176 [==============================] - 0s 2ms/step - loss: 0.4111 - accuracy: 0.8060\n",
            "Epoch 88/150\n",
            "176/176 [==============================] - 0s 2ms/step - loss: 0.4101 - accuracy: 0.8071\n",
            "Epoch 89/150\n",
            "176/176 [==============================] - 0s 2ms/step - loss: 0.4100 - accuracy: 0.8037\n",
            "Epoch 90/150\n",
            "176/176 [==============================] - 0s 2ms/step - loss: 0.4100 - accuracy: 0.8092\n",
            "Epoch 91/150\n",
            "176/176 [==============================] - 0s 2ms/step - loss: 0.4099 - accuracy: 0.8064\n",
            "Epoch 92/150\n",
            "176/176 [==============================] - 0s 2ms/step - loss: 0.4096 - accuracy: 0.8036\n",
            "Epoch 93/150\n",
            "176/176 [==============================] - 0s 2ms/step - loss: 0.4097 - accuracy: 0.8071\n",
            "Epoch 94/150\n",
            "176/176 [==============================] - 0s 2ms/step - loss: 0.4095 - accuracy: 0.8059\n",
            "Epoch 95/150\n",
            "176/176 [==============================] - 0s 2ms/step - loss: 0.4090 - accuracy: 0.8066\n",
            "Epoch 96/150\n",
            "176/176 [==============================] - 0s 2ms/step - loss: 0.4092 - accuracy: 0.8037\n",
            "Epoch 97/150\n",
            "176/176 [==============================] - 0s 2ms/step - loss: 0.4087 - accuracy: 0.8062\n",
            "Epoch 98/150\n",
            "176/176 [==============================] - 0s 2ms/step - loss: 0.4091 - accuracy: 0.8057\n",
            "Epoch 99/150\n",
            "176/176 [==============================] - 0s 2ms/step - loss: 0.4085 - accuracy: 0.8064\n",
            "Epoch 100/150\n",
            "176/176 [==============================] - 0s 2ms/step - loss: 0.4088 - accuracy: 0.8078\n",
            "Epoch 101/150\n",
            "176/176 [==============================] - 0s 2ms/step - loss: 0.4089 - accuracy: 0.8028\n",
            "Epoch 102/150\n",
            "176/176 [==============================] - 0s 2ms/step - loss: 0.4079 - accuracy: 0.8039\n",
            "Epoch 103/150\n",
            "176/176 [==============================] - 0s 2ms/step - loss: 0.4083 - accuracy: 0.8073\n",
            "Epoch 104/150\n",
            "176/176 [==============================] - 0s 2ms/step - loss: 0.4075 - accuracy: 0.8046\n",
            "Epoch 105/150\n",
            "176/176 [==============================] - 0s 2ms/step - loss: 0.4083 - accuracy: 0.8048\n",
            "Epoch 106/150\n",
            "176/176 [==============================] - 0s 2ms/step - loss: 0.4077 - accuracy: 0.8082\n",
            "Epoch 107/150\n",
            "176/176 [==============================] - 0s 2ms/step - loss: 0.4077 - accuracy: 0.8069\n",
            "Epoch 108/150\n",
            "176/176 [==============================] - 0s 2ms/step - loss: 0.4076 - accuracy: 0.8062\n",
            "Epoch 109/150\n",
            "176/176 [==============================] - 0s 2ms/step - loss: 0.4074 - accuracy: 0.8068\n",
            "Epoch 110/150\n",
            "176/176 [==============================] - 0s 2ms/step - loss: 0.4074 - accuracy: 0.8073\n",
            "Epoch 111/150\n",
            "176/176 [==============================] - 0s 2ms/step - loss: 0.4065 - accuracy: 0.8071\n",
            "Epoch 112/150\n",
            "176/176 [==============================] - 0s 2ms/step - loss: 0.4072 - accuracy: 0.8053\n",
            "Epoch 113/150\n",
            "176/176 [==============================] - 0s 2ms/step - loss: 0.4067 - accuracy: 0.8076\n",
            "Epoch 114/150\n",
            "176/176 [==============================] - 0s 2ms/step - loss: 0.4062 - accuracy: 0.8071\n",
            "Epoch 115/150\n",
            "176/176 [==============================] - 0s 2ms/step - loss: 0.4066 - accuracy: 0.8057\n",
            "Epoch 116/150\n",
            "176/176 [==============================] - 0s 2ms/step - loss: 0.4065 - accuracy: 0.8064\n",
            "Epoch 117/150\n",
            "176/176 [==============================] - 0s 2ms/step - loss: 0.4066 - accuracy: 0.8052\n",
            "Epoch 118/150\n",
            "176/176 [==============================] - 0s 2ms/step - loss: 0.4063 - accuracy: 0.8059\n",
            "Epoch 119/150\n",
            "176/176 [==============================] - 0s 2ms/step - loss: 0.4060 - accuracy: 0.8078\n",
            "Epoch 120/150\n",
            "176/176 [==============================] - 0s 2ms/step - loss: 0.4054 - accuracy: 0.8052\n",
            "Epoch 121/150\n",
            "176/176 [==============================] - 0s 2ms/step - loss: 0.4059 - accuracy: 0.8071\n",
            "Epoch 122/150\n",
            "176/176 [==============================] - 0s 2ms/step - loss: 0.4054 - accuracy: 0.8071\n",
            "Epoch 123/150\n",
            "176/176 [==============================] - 0s 2ms/step - loss: 0.4058 - accuracy: 0.8073\n",
            "Epoch 124/150\n",
            "176/176 [==============================] - 0s 2ms/step - loss: 0.4055 - accuracy: 0.8073\n",
            "Epoch 125/150\n",
            "176/176 [==============================] - 0s 2ms/step - loss: 0.4054 - accuracy: 0.8066\n",
            "Epoch 126/150\n",
            "176/176 [==============================] - 0s 2ms/step - loss: 0.4049 - accuracy: 0.8060\n",
            "Epoch 127/150\n",
            "176/176 [==============================] - 0s 2ms/step - loss: 0.4055 - accuracy: 0.8068\n",
            "Epoch 128/150\n",
            "176/176 [==============================] - 0s 2ms/step - loss: 0.4045 - accuracy: 0.8089\n",
            "Epoch 129/150\n",
            "176/176 [==============================] - 0s 2ms/step - loss: 0.4042 - accuracy: 0.8089\n",
            "Epoch 130/150\n",
            "176/176 [==============================] - 0s 2ms/step - loss: 0.4047 - accuracy: 0.8053\n",
            "Epoch 131/150\n",
            "176/176 [==============================] - 0s 2ms/step - loss: 0.4047 - accuracy: 0.8066\n",
            "Epoch 132/150\n",
            "176/176 [==============================] - 0s 2ms/step - loss: 0.4037 - accuracy: 0.8087\n",
            "Epoch 133/150\n",
            "176/176 [==============================] - 0s 2ms/step - loss: 0.4043 - accuracy: 0.8066\n",
            "Epoch 134/150\n",
            "176/176 [==============================] - 0s 2ms/step - loss: 0.4046 - accuracy: 0.8062\n",
            "Epoch 135/150\n",
            "176/176 [==============================] - 0s 2ms/step - loss: 0.4039 - accuracy: 0.8076\n",
            "Epoch 136/150\n",
            "176/176 [==============================] - 0s 2ms/step - loss: 0.4042 - accuracy: 0.8087\n",
            "Epoch 137/150\n",
            "176/176 [==============================] - 0s 2ms/step - loss: 0.4041 - accuracy: 0.8096\n",
            "Epoch 138/150\n",
            "176/176 [==============================] - 0s 2ms/step - loss: 0.4034 - accuracy: 0.8101\n",
            "Epoch 139/150\n",
            "176/176 [==============================] - 0s 2ms/step - loss: 0.4027 - accuracy: 0.8098\n",
            "Epoch 140/150\n",
            "176/176 [==============================] - 0s 2ms/step - loss: 0.4033 - accuracy: 0.8087\n",
            "Epoch 141/150\n",
            "176/176 [==============================] - 0s 2ms/step - loss: 0.4031 - accuracy: 0.8075\n",
            "Epoch 142/150\n",
            "176/176 [==============================] - 0s 2ms/step - loss: 0.4032 - accuracy: 0.8080\n",
            "Epoch 143/150\n",
            "176/176 [==============================] - 0s 2ms/step - loss: 0.4028 - accuracy: 0.8073\n",
            "Epoch 144/150\n",
            "176/176 [==============================] - 0s 2ms/step - loss: 0.4025 - accuracy: 0.8075\n",
            "Epoch 145/150\n",
            "176/176 [==============================] - 0s 2ms/step - loss: 0.4033 - accuracy: 0.8075\n",
            "Epoch 146/150\n",
            "176/176 [==============================] - 0s 2ms/step - loss: 0.4026 - accuracy: 0.8085\n",
            "Epoch 147/150\n",
            "176/176 [==============================] - 0s 2ms/step - loss: 0.4028 - accuracy: 0.8066\n",
            "Epoch 148/150\n",
            "176/176 [==============================] - 0s 2ms/step - loss: 0.4025 - accuracy: 0.8103\n",
            "Epoch 149/150\n",
            "176/176 [==============================] - 0s 2ms/step - loss: 0.4027 - accuracy: 0.8078\n",
            "Epoch 150/150\n",
            "176/176 [==============================] - 0s 2ms/step - loss: 0.4021 - accuracy: 0.8082\n"
          ]
        },
        {
          "output_type": "execute_result",
          "data": {
            "text/plain": [
              "<keras.callbacks.History at 0x7f73403f8c50>"
            ]
          },
          "metadata": {},
          "execution_count": 168
        }
      ]
    },
    {
      "cell_type": "code",
      "source": [
        "model_2_params = model_2.evaluate(X_test, y_test)\n",
        "y_model_2 = model_2.predict(X_test)"
      ],
      "metadata": {
        "colab": {
          "base_uri": "https://localhost:8080/"
        },
        "id": "FCbWf1cifRPW",
        "outputId": "8e5e2da3-ffb9-4f9e-c39d-6b34e074543d"
      },
      "execution_count": 169,
      "outputs": [
        {
          "output_type": "stream",
          "name": "stdout",
          "text": [
            "44/44 [==============================] - 0s 1ms/step - loss: 0.4055 - accuracy: 0.8031\n"
          ]
        }
      ]
    },
    {
      "cell_type": "code",
      "source": [
        "y_preds_model_1 = []\n",
        "\n",
        "for y in y_model_1:\n",
        "  if y > 0.5:\n",
        "    y_preds_model_1.append(1)\n",
        "  else:\n",
        "    y_preds_model_1.append(0)"
      ],
      "metadata": {
        "id": "Cpzt_rEJfejS"
      },
      "execution_count": 170,
      "outputs": []
    },
    {
      "cell_type": "code",
      "source": [
        "y_preds_model_2 = []\n",
        "\n",
        "for y in y_model_2:\n",
        "  if y > 0.5:\n",
        "    y_preds_model_2.append(1)\n",
        "  else:\n",
        "    y_preds_model_2.append(0)"
      ],
      "metadata": {
        "id": "ozEKuyc2jEG1"
      },
      "execution_count": 171,
      "outputs": []
    },
    {
      "cell_type": "code",
      "source": [
        "from sklearn.metrics import classification_report\n",
        "#Resulting in a low f1 score for the class with label 1 since that the dataset used in imbalanded/need more data.\n",
        "\n",
        "print(classification_report(y_test,y_preds_model_1))"
      ],
      "metadata": {
        "colab": {
          "base_uri": "https://localhost:8080/"
        },
        "id": "JKsimB-ZjI8u",
        "outputId": "acb36806-f282-4d00-ca7c-65cc3e9d2ac9"
      },
      "execution_count": 172,
      "outputs": [
        {
          "output_type": "stream",
          "name": "stdout",
          "text": [
            "              precision    recall  f1-score   support\n",
            "\n",
            "           0       0.84      0.89      0.86      1059\n",
            "           1       0.59      0.49      0.54       348\n",
            "\n",
            "    accuracy                           0.79      1407\n",
            "   macro avg       0.71      0.69      0.70      1407\n",
            "weighted avg       0.78      0.79      0.78      1407\n",
            "\n"
          ]
        }
      ]
    },
    {
      "cell_type": "code",
      "source": [
        "print(classification_report(y_test,y_preds_model_2))"
      ],
      "metadata": {
        "colab": {
          "base_uri": "https://localhost:8080/"
        },
        "id": "jUxlof54jaSe",
        "outputId": "cd4e69c2-2b5a-4f2b-d900-73acdf9942e5"
      },
      "execution_count": 173,
      "outputs": [
        {
          "output_type": "stream",
          "name": "stdout",
          "text": [
            "              precision    recall  f1-score   support\n",
            "\n",
            "           0       0.84      0.90      0.87      1059\n",
            "           1       0.63      0.49      0.55       348\n",
            "\n",
            "    accuracy                           0.80      1407\n",
            "   macro avg       0.74      0.70      0.71      1407\n",
            "weighted avg       0.79      0.80      0.79      1407\n",
            "\n"
          ]
        }
      ]
    },
    {
      "cell_type": "code",
      "source": [
        "#Confusion matrix for model 1\n",
        "confusion_matrix = tf.math.confusion_matrix(labels=y_test,predictions=y_preds_model_1)\n",
        "\n",
        "plt.figure(figsize = (10,7))\n",
        "sns.heatmap(confusion_matrix, annot=True, fmt='d')\n",
        "plt.xlabel('Predicted')\n",
        "plt.ylabel('Truth')"
      ],
      "metadata": {
        "colab": {
          "base_uri": "https://localhost:8080/",
          "height": 459
        },
        "id": "F9g0n2jfjddl",
        "outputId": "fd388af5-7db0-4738-f3ea-95d329f8c60d"
      },
      "execution_count": 174,
      "outputs": [
        {
          "output_type": "execute_result",
          "data": {
            "text/plain": [
              "Text(69.0, 0.5, 'Truth')"
            ]
          },
          "metadata": {},
          "execution_count": 174
        },
        {
          "output_type": "display_data",
          "data": {
            "image/png": "[encoded data removed]",
            "text/plain": [
              "<Figure size 720x504 with 2 Axes>"
            ]
          },
          "metadata": {
            "needs_background": "light"
          }
        }
      ]
    },
    {
      "cell_type": "code",
      "source": [
        "#Confusion matrix for model 2\n",
        "confusion_matrix = tf.math.confusion_matrix(labels=y_test,predictions=y_preds_model_2)\n",
        "\n",
        "plt.figure(figsize = (10,7))\n",
        "sns.heatmap(confusion_matrix, annot=True, fmt='d')\n",
        "plt.xlabel('Predicted')\n",
        "plt.ylabel('Truth')"
      ],
      "metadata": {
        "colab": {
          "base_uri": "https://localhost:8080/",
          "height": 459
        },
        "id": "JrwdXPtmk6xO",
        "outputId": "024f6723-249e-4d56-8af0-60e5216606e0"
      },
      "execution_count": 175,
      "outputs": [
        {
          "output_type": "execute_result",
          "data": {
            "text/plain": [
              "Text(69.0, 0.5, 'Truth')"
            ]
          },
          "metadata": {},
          "execution_count": 175
        },
        {
          "output_type": "display_data",
          "data": {
            "image/png": "[encoded data removed]",
            "text/plain": [
              "<Figure size 720x504 with 2 Axes>"
            ]
          },
          "metadata": {
            "needs_background": "light"
          }
        }
      ]
    },
    {
      "cell_type": "code",
      "source": [
        "#Bar plot graph showing the accuracy of each model on the test set.\n",
        "\n",
        "plt.figure(figsize= (12, 6))\n",
        "plt.bar(['Model 1', 'Model 2'], [model_1_params[1] * 100, model_2_params[1] * 100])\n",
        "plt.xlabel('Model #')\n",
        "plt.ylabel('Accuracy (%)')\n",
        "\n",
        "plt.show()\n"
      ],
      "metadata": {
        "colab": {
          "base_uri": "https://localhost:8080/",
          "height": 388
        },
        "id": "uR4U8yTxk-EG",
        "outputId": "5d6cd325-4449-427c-e2ae-94ab1cc1f125"
      },
      "execution_count": 176,
      "outputs": [
        {
          "output_type": "display_data",
          "data": {
            "image/png": "[encoded data removed]",
            "text/plain": [
              "<Figure size 864x432 with 1 Axes>"
            ]
          },
          "metadata": {
            "needs_background": "light"
          }
        }
      ]
    }
  ]
}